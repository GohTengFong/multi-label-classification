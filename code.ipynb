{
 "cells": [
  {
   "cell_type": "code",
   "execution_count": 1,
   "id": "c640f6ee",
   "metadata": {
    "execution": {
     "iopub.execute_input": "2024-10-25T15:06:33.072398Z",
     "iopub.status.busy": "2024-10-25T15:06:33.071349Z",
     "iopub.status.idle": "2024-10-25T15:06:40.689022Z",
     "shell.execute_reply": "2024-10-25T15:06:40.687627Z"
    },
    "papermill": {
     "duration": 7.626561,
     "end_time": "2024-10-25T15:06:40.691747",
     "exception": false,
     "start_time": "2024-10-25T15:06:33.065186",
     "status": "completed"
    },
    "tags": []
   },
   "outputs": [],
   "source": [
    "import matplotlib.pyplot as plt\n",
    "import numpy as np\n",
    "import pandas as pd\n",
    "import sklearn.metrics as metrics\n",
    "import torch\n",
    "import torch.nn as nn\n",
    "import torch.optim as optim\n",
    "import torchvision\n",
    "import torchvision.transforms as transforms\n",
    "import torchvision.transforms.functional as F\n",
    "\n",
    "seed = 123\n",
    "np.random.seed(seed)\n",
    "torch.manual_seed(seed)\n",
    "torch.cuda.manual_seed(seed)\n",
    "torch.cuda.manual_seed_all(seed)"
   ]
  },
  {
   "cell_type": "code",
   "execution_count": 2,
   "id": "934d7825",
   "metadata": {
    "execution": {
     "iopub.execute_input": "2024-10-25T15:06:40.701851Z",
     "iopub.status.busy": "2024-10-25T15:06:40.701264Z",
     "iopub.status.idle": "2024-10-25T15:06:40.712123Z",
     "shell.execute_reply": "2024-10-25T15:06:40.710984Z"
    },
    "papermill": {
     "duration": 0.018566,
     "end_time": "2024-10-25T15:06:40.714605",
     "exception": false,
     "start_time": "2024-10-25T15:06:40.696039",
     "status": "completed"
    },
    "tags": []
   },
   "outputs": [],
   "source": [
    "obj_classes = {\n",
    "    \"002_master_chef_can\": 0,\n",
    "    \"003_cracker_box\": 1,\n",
    "    \"004_sugar_box\": 2,\n",
    "    \"005_tomato_soup_can\": 3,\n",
    "    \"006_mustard_bottle\": 4,\n",
    "    \"007_tuna_fish_can\": 5,\n",
    "    \"008_pudding_box\": 6,\n",
    "    \"009_gelatin_box\": 7,\n",
    "    \"010_potted_meat_can\": 8,\n",
    "    \"011_banana\": 9,\n",
    "    \"019_pitcher_base\": 10,\n",
    "    \"021_bleach_cleanser\": 11,\n",
    "    \"024_bowl\": 12,\n",
    "    \"025_mug\": 13,\n",
    "    \"035_power_drill\": 14,\n",
    "    \"036_wood_block\": 15,\n",
    "    \"037_scissors\": 16,\n",
    "    \"040_large_marker\": 17,\n",
    "    \"051_large_clamp\": 18,\n",
    "    \"052_extra_large_clamp\": 19,\n",
    "    \"061_foam_brick\": 20\n",
    "}\n",
    "\n",
    "def count_params(net, trainable=False):\n",
    "    if trainable:\n",
    "        count = sum(p.numel() for p in net.parameters() if p.requires_grad)\n",
    "    else:\n",
    "        count = sum(p.numel() for p in net.parameters())\n",
    "    return count\n",
    "\n",
    "def to_csv(fname, img_ids=None, results=None):\n",
    "    results = np.array(results).astype(int)\n",
    "    df = pd.DataFrame([pd.Series(x) for x in results])\n",
    "    df.columns = ['class_{}'.format(x) for x in df.columns]\n",
    "    df = df.assign(img_id = img_ids)\n",
    "\n",
    "    cols = df.columns.to_list()\n",
    "    df = df[[cols[-1]] + cols[:-1]]\n",
    "\n",
    "    df.to_csv(fname, index=False)"
   ]
  },
  {
   "cell_type": "code",
   "execution_count": 3,
   "id": "5e80968f",
   "metadata": {
    "execution": {
     "iopub.execute_input": "2024-10-25T15:06:40.724367Z",
     "iopub.status.busy": "2024-10-25T15:06:40.723911Z",
     "iopub.status.idle": "2024-10-25T15:06:40.730090Z",
     "shell.execute_reply": "2024-10-25T15:06:40.728565Z"
    },
    "papermill": {
     "duration": 0.014131,
     "end_time": "2024-10-25T15:06:40.732640",
     "exception": false,
     "start_time": "2024-10-25T15:06:40.718509",
     "status": "completed"
    },
    "tags": []
   },
   "outputs": [],
   "source": [
    "transform = torch.nn.Sequential(\n",
    "    transforms.Resize([224, 224], antialias=True)\n",
    ")"
   ]
  },
  {
   "cell_type": "code",
   "execution_count": 4,
   "id": "d0b75522",
   "metadata": {
    "execution": {
     "iopub.execute_input": "2024-10-25T15:06:40.742643Z",
     "iopub.status.busy": "2024-10-25T15:06:40.742187Z",
     "iopub.status.idle": "2024-10-25T15:06:40.776774Z",
     "shell.execute_reply": "2024-10-25T15:06:40.775656Z"
    },
    "papermill": {
     "duration": 0.042527,
     "end_time": "2024-10-25T15:06:40.779343",
     "exception": false,
     "start_time": "2024-10-25T15:06:40.736816",
     "status": "completed"
    },
    "tags": []
   },
   "outputs": [],
   "source": [
    "class YCBDataset(torch.utils.data.Dataset):\n",
    "    def __init__(self, data_dir=\"\", transform=None, is_train=True):\n",
    "        self.data_dir = data_dir\n",
    "        self.data_idx = np.loadtxt(f\"{self.data_dir}/data.txt\", delimiter=\",\", dtype=int)\n",
    "        self.transform = transform\n",
    "        self.is_train = is_train\n",
    "        \n",
    "    def __len__(self):\n",
    "        return self.data_idx.shape[0]\n",
    "\n",
    "    def _load_labels(self, fname):\n",
    "        '''\n",
    "        Reads label\n",
    "        '''\n",
    "        f = open(fname, 'r')\n",
    "        data = f.readlines()\n",
    "        labels = []\n",
    "        for line  in data:\n",
    "            l = line.split(' ')[0]\n",
    "            labels.append(l)\n",
    "        f.close()\n",
    "        return labels\n",
    "        \n",
    "    def __getitem__(self, index):\n",
    "        v_num, t_num = self.data_idx[index]\n",
    "        \n",
    "        img_id = f\"{v_num:04}_{t_num:06}\"\n",
    "        fname = f\"{self.data_dir}/{v_num:04}/{t_num:06}\"\n",
    "\n",
    "        X = torchvision.io.read_image(f\"{fname}-color.png\")\n",
    "\n",
    "        # preprocess for size\n",
    "        preprocess = transforms.ConvertImageDtype(torch.float32)\n",
    "        X_original = preprocess(X)\n",
    "\n",
    "        if self.transform is not None:\n",
    "            X_transformed = self.transform(X_original)\n",
    "        else:\n",
    "            X_transformed = X_original\n",
    "\n",
    "        if not self.is_train: # no labels are provided for testing set\n",
    "            y = torch.FloatTensor(np.ones(len(obj_classes))*(-1.0))\n",
    "        else:\n",
    "            # load string labels and convert to k-hot labels\n",
    "            string_labels = self._load_labels(f\"{fname}-box.txt\")\n",
    "            y = np.zeros(len(obj_classes))\n",
    "            for l in string_labels:\n",
    "                y[obj_classes[l]] = 1.0\n",
    "            y = torch.FloatTensor(np.array(y))\n",
    "\n",
    "        return img_id, X_original, X_transformed, y\n",
    "\n",
    "train_dataset = YCBDataset(data_dir=\"/kaggle/input/cs3264-assignment-2-ay2425s1/ycb_dataset/train_data\", transform=transform, is_train=True)\n",
    "train_dataloader = torch.utils.data.DataLoader(train_dataset, batch_size=50, shuffle=True)\n",
    "\n",
    "test_dataset = YCBDataset(data_dir=\"/kaggle/input/cs3264-assignment-2-ay2425s1/ycb_dataset/test_data\", transform=transform, is_train=False)\n",
    "test_dataloader = torch.utils.data.DataLoader(test_dataset, batch_size=50, shuffle=False)"
   ]
  },
  {
   "cell_type": "code",
   "execution_count": 5,
   "id": "09e6851d",
   "metadata": {
    "execution": {
     "iopub.execute_input": "2024-10-25T15:06:40.789226Z",
     "iopub.status.busy": "2024-10-25T15:06:40.788726Z",
     "iopub.status.idle": "2024-10-25T15:06:40.915634Z",
     "shell.execute_reply": "2024-10-25T15:06:40.914324Z"
    },
    "papermill": {
     "duration": 0.135309,
     "end_time": "2024-10-25T15:06:40.918565",
     "exception": false,
     "start_time": "2024-10-25T15:06:40.783256",
     "status": "completed"
    },
    "tags": []
   },
   "outputs": [
    {
     "name": "stdout",
     "output_type": "stream",
     "text": [
      "torch.Size([3, 224, 224])\n",
      "torch.Size([21])\n"
     ]
    }
   ],
   "source": [
    "img_id, X_original, X_transformed, y = train_dataset[0]\n",
    "\n",
    "print(X_transformed.shape)\n",
    "print(y.shape)"
   ]
  },
  {
   "cell_type": "code",
   "execution_count": 6,
   "id": "19be3622",
   "metadata": {
    "execution": {
     "iopub.execute_input": "2024-10-25T15:06:40.928380Z",
     "iopub.status.busy": "2024-10-25T15:06:40.927966Z",
     "iopub.status.idle": "2024-10-25T15:06:40.944539Z",
     "shell.execute_reply": "2024-10-25T15:06:40.943309Z"
    },
    "papermill": {
     "duration": 0.024713,
     "end_time": "2024-10-25T15:06:40.947351",
     "exception": false,
     "start_time": "2024-10-25T15:06:40.922638",
     "status": "completed"
    },
    "tags": []
   },
   "outputs": [],
   "source": [
    "class Classifier(nn.Module):\n",
    "    def __init__(self):\n",
    "        nn.Module.__init__(self)\n",
    "        \n",
    "        self.conv = nn.Sequential(\n",
    "            nn.Conv2d(in_channels=3, out_channels=8, kernel_size=3, padding=1),\n",
    "            nn.LeakyReLU(0.1),\n",
    "            nn.BatchNorm2d(8),\n",
    "            nn.MaxPool2d(kernel_size=2),\n",
    "            nn.Conv2d(in_channels=8, out_channels=16, kernel_size=3, padding=1),\n",
    "            nn.LeakyReLU(0.1),\n",
    "            nn.BatchNorm2d(16),\n",
    "            nn.MaxPool2d(kernel_size=2),\n",
    "            nn.Conv2d(in_channels=16, out_channels=32, kernel_size=3, padding=1),\n",
    "            nn.LeakyReLU(0.1),\n",
    "            nn.BatchNorm2d(32),\n",
    "            nn.MaxPool2d(kernel_size=2),\n",
    "            nn.Conv2d(in_channels=32, out_channels=64, kernel_size=3, padding=1),\n",
    "            nn.LeakyReLU(0.1),\n",
    "            nn.BatchNorm2d(64),\n",
    "            nn.MaxPool2d(kernel_size=2)\n",
    "        )\n",
    "        \n",
    "        self.lin = nn.Sequential(\n",
    "            nn.Flatten(),\n",
    "            nn.Linear(64 * 14 * 14, 1024),\n",
    "            nn.ReLU(),\n",
    "            nn.Dropout(0.5),\n",
    "            nn.Linear(1024, 512),\n",
    "            nn.ReLU(),\n",
    "            nn.Dropout(0.5),\n",
    "            nn.Linear(512, 21)\n",
    "        )\n",
    "\n",
    "    def forward(self, X):\n",
    "        X = self.conv(X)\n",
    "        X = self.lin(X)\n",
    "        \n",
    "        return X\n",
    "    \n",
    "    def fit(self, dataloader):\n",
    "        epoch = 10\n",
    "        lr = 0.001\n",
    "        \n",
    "        loss_fn = nn.BCEWithLogitsLoss()\n",
    "        optimiser = optim.Adam(self.parameters(), lr=lr)\n",
    "        \n",
    "        self.train()\n",
    "        for i in range(epoch):\n",
    "            for _, _, X, y in dataloader:\n",
    "                optimiser.zero_grad()\n",
    "                y_pred = self.forward(X)\n",
    "                \n",
    "                loss = loss_fn(y_pred, y)\n",
    "                loss.backward()\n",
    "                optimiser.step()\n",
    "            \n",
    "            print(f'Epoch {i} - Loss: {loss.item()}')\n",
    "    \n",
    "    def predict(self, dataloader, threshold):        \n",
    "        img_ids = []\n",
    "        results = []\n",
    "        \n",
    "        self.eval()\n",
    "        with torch.no_grad():\n",
    "            for img_id, _, X, _ in dataloader:\n",
    "                X = X.to(device)\n",
    "                y_pred_logits = self.forward(X)\n",
    "                \n",
    "                y_pred_sigmoid = torch.sigmoid(y_pred_logits)\n",
    "                y_pred = torch.zeros_like(y_pred_logits)\n",
    "                y_pred[y_pred_sigmoid > threshold] = 1.0\n",
    "                for i in range(X.shape[0]):\n",
    "                    img_ids.append(img_id[i])\n",
    "                    results.append(y_pred[i].cpu().numpy())\n",
    "        \n",
    "        return img_ids, results"
   ]
  },
  {
   "cell_type": "code",
   "execution_count": 7,
   "id": "5f0e6a55",
   "metadata": {
    "execution": {
     "iopub.execute_input": "2024-10-25T15:06:40.957201Z",
     "iopub.status.busy": "2024-10-25T15:06:40.956726Z",
     "iopub.status.idle": "2024-10-25T15:06:41.153359Z",
     "shell.execute_reply": "2024-10-25T15:06:41.151983Z"
    },
    "papermill": {
     "duration": 0.204436,
     "end_time": "2024-10-25T15:06:41.155985",
     "exception": false,
     "start_time": "2024-10-25T15:06:40.951549",
     "status": "completed"
    },
    "tags": []
   },
   "outputs": [
    {
     "name": "stdout",
     "output_type": "stream",
     "text": [
      "Network has 13406421 parameters in total\n",
      "Network has 13406421 trainable parameters in total\n"
     ]
    }
   ],
   "source": [
    "model = Classifier()\n",
    "\n",
    "print(F'Network has {count_params(model, trainable=False)} parameters in total')\n",
    "print(F'Network has {count_params(model, trainable=True)} trainable parameters in total')"
   ]
  },
  {
   "cell_type": "code",
   "execution_count": 8,
   "id": "2148c13c",
   "metadata": {
    "execution": {
     "iopub.execute_input": "2024-10-25T15:06:41.166485Z",
     "iopub.status.busy": "2024-10-25T15:06:41.165857Z",
     "iopub.status.idle": "2024-10-25T15:06:41.179569Z",
     "shell.execute_reply": "2024-10-25T15:06:41.178333Z"
    },
    "papermill": {
     "duration": 0.022193,
     "end_time": "2024-10-25T15:06:41.182211",
     "exception": false,
     "start_time": "2024-10-25T15:06:41.160018",
     "status": "completed"
    },
    "tags": []
   },
   "outputs": [
    {
     "data": {
      "text/plain": [
       "Classifier(\n",
       "  (conv): Sequential(\n",
       "    (0): Conv2d(3, 8, kernel_size=(3, 3), stride=(1, 1), padding=(1, 1))\n",
       "    (1): LeakyReLU(negative_slope=0.1)\n",
       "    (2): BatchNorm2d(8, eps=1e-05, momentum=0.1, affine=True, track_running_stats=True)\n",
       "    (3): MaxPool2d(kernel_size=2, stride=2, padding=0, dilation=1, ceil_mode=False)\n",
       "    (4): Conv2d(8, 16, kernel_size=(3, 3), stride=(1, 1), padding=(1, 1))\n",
       "    (5): LeakyReLU(negative_slope=0.1)\n",
       "    (6): BatchNorm2d(16, eps=1e-05, momentum=0.1, affine=True, track_running_stats=True)\n",
       "    (7): MaxPool2d(kernel_size=2, stride=2, padding=0, dilation=1, ceil_mode=False)\n",
       "    (8): Conv2d(16, 32, kernel_size=(3, 3), stride=(1, 1), padding=(1, 1))\n",
       "    (9): LeakyReLU(negative_slope=0.1)\n",
       "    (10): BatchNorm2d(32, eps=1e-05, momentum=0.1, affine=True, track_running_stats=True)\n",
       "    (11): MaxPool2d(kernel_size=2, stride=2, padding=0, dilation=1, ceil_mode=False)\n",
       "    (12): Conv2d(32, 64, kernel_size=(3, 3), stride=(1, 1), padding=(1, 1))\n",
       "    (13): LeakyReLU(negative_slope=0.1)\n",
       "    (14): BatchNorm2d(64, eps=1e-05, momentum=0.1, affine=True, track_running_stats=True)\n",
       "    (15): MaxPool2d(kernel_size=2, stride=2, padding=0, dilation=1, ceil_mode=False)\n",
       "  )\n",
       "  (lin): Sequential(\n",
       "    (0): Flatten(start_dim=1, end_dim=-1)\n",
       "    (1): Linear(in_features=12544, out_features=1024, bias=True)\n",
       "    (2): ReLU()\n",
       "    (3): Dropout(p=0.5, inplace=False)\n",
       "    (4): Linear(in_features=1024, out_features=512, bias=True)\n",
       "    (5): ReLU()\n",
       "    (6): Dropout(p=0.5, inplace=False)\n",
       "    (7): Linear(in_features=512, out_features=21, bias=True)\n",
       "  )\n",
       ")"
      ]
     },
     "execution_count": 8,
     "metadata": {},
     "output_type": "execute_result"
    }
   ],
   "source": [
    "device = torch.device(\"cuda:0\" if torch.cuda.is_available() else \"cpu\")\n",
    "\n",
    "model.to(device)"
   ]
  },
  {
   "cell_type": "code",
   "execution_count": 9,
   "id": "23e1880c",
   "metadata": {
    "execution": {
     "iopub.execute_input": "2024-10-25T15:06:41.193153Z",
     "iopub.status.busy": "2024-10-25T15:06:41.192723Z",
     "iopub.status.idle": "2024-10-25T15:19:36.597811Z",
     "shell.execute_reply": "2024-10-25T15:19:36.596554Z"
    },
    "papermill": {
     "duration": 775.418078,
     "end_time": "2024-10-25T15:19:36.604887",
     "exception": false,
     "start_time": "2024-10-25T15:06:41.186809",
     "status": "completed"
    },
    "tags": []
   },
   "outputs": [
    {
     "name": "stdout",
     "output_type": "stream",
     "text": [
      "Epoch 0 - Loss: 0.30428943037986755\n",
      "Epoch 1 - Loss: 0.14760026335716248\n",
      "Epoch 2 - Loss: 0.061615824699401855\n",
      "Epoch 3 - Loss: 0.07085715979337692\n",
      "Epoch 4 - Loss: 0.03704853355884552\n",
      "Epoch 5 - Loss: 0.01527936477214098\n",
      "Epoch 6 - Loss: 0.015655595809221268\n",
      "Epoch 7 - Loss: 0.03787003457546234\n",
      "Epoch 8 - Loss: 0.017221296206116676\n",
      "Epoch 9 - Loss: 0.01857515051960945\n"
     ]
    }
   ],
   "source": [
    "model.fit(train_dataloader)"
   ]
  },
  {
   "cell_type": "code",
   "execution_count": 10,
   "id": "c21c108d",
   "metadata": {
    "execution": {
     "iopub.execute_input": "2024-10-25T15:19:36.617867Z",
     "iopub.status.busy": "2024-10-25T15:19:36.617426Z",
     "iopub.status.idle": "2024-10-25T15:19:54.435774Z",
     "shell.execute_reply": "2024-10-25T15:19:54.434470Z"
    },
    "papermill": {
     "duration": 17.82788,
     "end_time": "2024-10-25T15:19:54.438564",
     "exception": false,
     "start_time": "2024-10-25T15:19:36.610684",
     "status": "completed"
    },
    "tags": []
   },
   "outputs": [],
   "source": [
    "img_ids, results = model.predict(test_dataloader, 0.5)"
   ]
  },
  {
   "cell_type": "code",
   "execution_count": 11,
   "id": "3b3c5ac9",
   "metadata": {
    "execution": {
     "iopub.execute_input": "2024-10-25T15:19:54.450448Z",
     "iopub.status.busy": "2024-10-25T15:19:54.449386Z",
     "iopub.status.idle": "2024-10-25T15:19:54.529213Z",
     "shell.execute_reply": "2024-10-25T15:19:54.527709Z"
    },
    "papermill": {
     "duration": 0.089093,
     "end_time": "2024-10-25T15:19:54.532405",
     "exception": false,
     "start_time": "2024-10-25T15:19:54.443312",
     "status": "completed"
    },
    "tags": []
   },
   "outputs": [],
   "source": [
    "to_csv(\"submission.csv\", img_ids=img_ids, results=results)"
   ]
  },
  {
   "cell_type": "code",
   "execution_count": null,
   "id": "7f2b7167",
   "metadata": {
    "papermill": {
     "duration": 0.004963,
     "end_time": "2024-10-25T15:19:54.542890",
     "exception": false,
     "start_time": "2024-10-25T15:19:54.537927",
     "status": "completed"
    },
    "tags": []
   },
   "outputs": [],
   "source": []
  }
 ],
 "metadata": {
  "kaggle": {
   "accelerator": "none",
   "dataSources": [
    {
     "databundleVersionId": 9634322,
     "sourceId": 85366,
     "sourceType": "competition"
    }
   ],
   "dockerImageVersionId": 30786,
   "isGpuEnabled": false,
   "isInternetEnabled": true,
   "language": "python",
   "sourceType": "notebook"
  },
  "kernelspec": {
   "display_name": "Python 3",
   "language": "python",
   "name": "python3"
  },
  "language_info": {
   "codemirror_mode": {
    "name": "ipython",
    "version": 3
   },
   "file_extension": ".py",
   "mimetype": "text/x-python",
   "name": "python",
   "nbconvert_exporter": "python",
   "pygments_lexer": "ipython3",
   "version": "3.10.14"
  },
  "papermill": {
   "default_parameters": {},
   "duration": 805.97791,
   "end_time": "2024-10-25T15:19:55.975814",
   "environment_variables": {},
   "exception": null,
   "input_path": "__notebook__.ipynb",
   "output_path": "__notebook__.ipynb",
   "parameters": {},
   "start_time": "2024-10-25T15:06:29.997904",
   "version": "2.6.0"
  }
 },
 "nbformat": 4,
 "nbformat_minor": 5
}
